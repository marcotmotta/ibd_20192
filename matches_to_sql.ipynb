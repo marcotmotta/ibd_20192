{
 "cells": [
  {
   "cell_type": "code",
   "execution_count": 84,
   "metadata": {},
   "outputs": [],
   "source": [
    "import io\n",
    "import json\n",
    "import sqlite3 as sql\n",
    "import pandas as pd\n",
    "import os\n",
    "\n",
    "def query(query_string, connection):\n",
    "    return pd.read_sql_query(query_string, connection)"
   ]
  },
  {
   "cell_type": "code",
   "execution_count": 85,
   "metadata": {},
   "outputs": [],
   "source": [
    "file = open('owl.sql', 'w+')"
   ]
  },
  {
   "cell_type": "code",
   "execution_count": 86,
   "metadata": {},
   "outputs": [],
   "source": [
    "json_file = open('matches.json')\n",
    "data = json.load(json_file)['content']\n",
    "json_file.close()"
   ]
  },
  {
   "cell_type": "code",
   "execution_count": 87,
   "metadata": {},
   "outputs": [],
   "source": [
    "match_schema = (\n",
    "    'CREATE TABLE [MATCHES] ( '\n",
    "    'MATCH_ID INT, '\n",
    "    'TEAM_ONE_ID INT, '\n",
    "    'TEAM_TWO_ID INT, '\n",
    "    'TEAM_ONE_SCORE INT, '\n",
    "    'TEAM_TWO_SCORE INT, '\n",
    "    'WINNER_ID INT, '\n",
    "    'TIMESTAMP DATETIME, '\n",
    "    'PRIMARY KEY (MATCH_ID)'\n",
    "    ');' \n",
    ")"
   ]
  },
  {
   "cell_type": "code",
   "execution_count": 88,
   "metadata": {},
   "outputs": [
    {
     "data": {
      "text/plain": [
       "174"
      ]
     },
     "execution_count": 88,
     "metadata": {},
     "output_type": "execute_result"
    }
   ],
   "source": [
    "file.write(match_schema + '\\n\\n')"
   ]
  },
  {
   "cell_type": "code",
   "execution_count": 89,
   "metadata": {},
   "outputs": [],
   "source": [
    "for match in data:\n",
    "    insert = (\n",
    "        'INSERT INTO MATCHES '\n",
    "        '(MATCH_ID, TEAM_ONE_ID, TEAM_TWO_ID, '\n",
    "        'TEAM_ONE_SCORE, TEAM_TWO_SCORE, '\n",
    "        'WINNER_ID, TIMESTAMP)'\n",
    "        'VALUES (%d, %d, %d, %d, %d, %d, %d);'\n",
    "        % (match['id'], match['competitors'][0]['id'],\n",
    "          match['competitors'][1]['id'],\n",
    "          match['scores'][0]['value'],\n",
    "          match['scores'][1]['value'],\n",
    "          match['winner']['id'],\n",
    "          match['actualStartDate'])\n",
    "    )\n",
    "    file.write(insert+'\\n')"
   ]
  },
  {
   "cell_type": "code",
   "execution_count": 90,
   "metadata": {},
   "outputs": [],
   "source": [
    "#connection = sql.connect('test.db')"
   ]
  },
  {
   "cell_type": "code",
   "execution_count": 91,
   "metadata": {},
   "outputs": [],
   "source": [
    "#cursor = connection.cursor()\n",
    "#db = io.open('owl.sql', 'r', encoding='ISO-8859-1')\n",
    "#database = db.read()\n",
    "#cursor.executescript(database)"
   ]
  },
  {
   "cell_type": "code",
   "execution_count": 92,
   "metadata": {},
   "outputs": [
    {
     "data": {
      "text/plain": [
       "85"
      ]
     },
     "execution_count": 92,
     "metadata": {},
     "output_type": "execute_result"
    }
   ],
   "source": [
    "game_schema = (\n",
    "    '\\nCREATE TABLE [GAMES] ('\n",
    "    'GAME_ID INT, '\n",
    "    'MATCH_ID INT, '\n",
    "    'MAP TEXT, '\n",
    "    'PRIMARY KEY (GAME_ID)'\n",
    "    ');\\n\\n'\n",
    ")\n",
    "\n",
    "file.write(game_schema)"
   ]
  },
  {
   "cell_type": "code",
   "execution_count": 93,
   "metadata": {},
   "outputs": [
    {
     "name": "stdout",
     "output_type": "stream",
     "text": [
      "Error\n",
      "Error\n"
     ]
    }
   ],
   "source": [
    "for match in data:\n",
    "    for game in match['games']:\n",
    "        try:\n",
    "            map_name = str(game['attributes']['map']).replace('-', ' ')\n",
    "            insert = (\n",
    "                'INSERT INTO GAMES (GAME_ID, MATCH_ID, MAP) VALUES '\n",
    "                '(%d, %d, \\'%s\\');'\n",
    "                % (game['id'], match['id'], map_name)\n",
    "            )\n",
    "            file.write(insert+'\\n')\n",
    "        except:\n",
    "            print('Error')"
   ]
  },
  {
   "cell_type": "code",
   "execution_count": 94,
   "metadata": {},
   "outputs": [],
   "source": [
    "#try:\n",
    "#    connection = sql.connect('test.db')\n",
    "#    cursor = connection.cursor()\n",
    "#    db = io.open('owl.sql', 'r', encoding='ISO-8859-1')\n",
    "#    database = db.read()\n",
    "#    cursor.executescript(database)\n",
    "#except Exception as e:\n",
    "#    print(e)\n",
    "#    os.remove('test.db')"
   ]
  },
  {
   "cell_type": "code",
   "execution_count": 95,
   "metadata": {},
   "outputs": [
    {
     "data": {
      "text/plain": [
       "97"
      ]
     },
     "execution_count": 95,
     "metadata": {},
     "output_type": "execute_result"
    }
   ],
   "source": [
    "teams_schema = (\n",
    "    '\\nCREATE TABLE [TEAMS] ('\n",
    "    'TEAM_ID INT, '\n",
    "    'TEAM_NAME TEXT, '\n",
    "    'TEAM_LOCATION TEXT, '\n",
    "    'PRIMARY KEY (TEAM_ID)'\n",
    "    ');\\n\\n'\n",
    ")\n",
    "\n",
    "file.write(teams_schema)"
   ]
  },
  {
   "cell_type": "code",
   "execution_count": 96,
   "metadata": {},
   "outputs": [],
   "source": [
    "team_list = []\n",
    "for match in data:\n",
    "    for competitor in match['competitors']:\n",
    "        if competitor['id'] not in team_list:\n",
    "            team_list.append(competitor['id'])\n",
    "            insert = (\n",
    "                    'INSERT INTO TEAMS (TEAM_ID, TEAM_NAME, TEAM_LOCATION) VALUES '\n",
    "                    '(%d, \\'%s\\', \\'%s\\');'\n",
    "                    % (competitor['id'], \n",
    "                       competitor['name'], \n",
    "                       competitor['homeLocation'])\n",
    "                )\n",
    "            file.write(insert+'\\n')"
   ]
  },
  {
   "cell_type": "code",
   "execution_count": 97,
   "metadata": {},
   "outputs": [],
   "source": [
    "#try:\n",
    "#    connection = sql.connect('test.db')\n",
    "#    cursor = connection.cursor()\n",
    "#    db = io.open('owl.sql', 'r', encoding='ISO-8859-1')\n",
    "#    database = db.read()\n",
    "#    cursor.executescript(database)\n",
    "#except Exception as e:\n",
    "#    print(e)\n",
    "#    os.remove('test.db')"
   ]
  },
  {
   "cell_type": "code",
   "execution_count": 98,
   "metadata": {},
   "outputs": [
    {
     "data": {
      "text/plain": [
       "143"
      ]
     },
     "execution_count": 98,
     "metadata": {},
     "output_type": "execute_result"
    }
   ],
   "source": [
    "teams_schema = (\n",
    "    '\\nCREATE TABLE [PLAYERS] ('\n",
    "    'COMPETITOR_ID INT,'\n",
    "    'TEAM_ID INT, '\n",
    "    'HANDLE TEXT, '\n",
    "    'ROLE TEXT, '\n",
    "    'NUMBER INT,'\n",
    "    'NAME TEXT,'\n",
    "    'PHOTO TEXT,'\n",
    "    'PRIMARY KEY (COMPETITOR_ID)'\n",
    "    ');\\n\\n'\n",
    ")\n",
    "\n",
    "file.write(teams_schema)"
   ]
  },
  {
   "cell_type": "code",
   "execution_count": 99,
   "metadata": {},
   "outputs": [
    {
     "data": {
      "text/plain": [
       "'tank'"
      ]
     },
     "execution_count": 99,
     "metadata": {},
     "output_type": "execute_result"
    }
   ],
   "source": [
    "data[0]['competitors'][0]['players'][0]['player']['attributes']['role']"
   ]
  },
  {
   "cell_type": "code",
   "execution_count": 101,
   "metadata": {},
   "outputs": [],
   "source": [
    "team_list = []\n",
    "player_list = []\n",
    "for match in data:\n",
    "    for competitor in match['competitors']:\n",
    "        if competitor['id'] not in team_list:\n",
    "            team_list.append(competitor['id'])\n",
    "            for player in competitor['players']:\n",
    "                if player['player']['id'] not in player_list:\n",
    "                    player_list.append(player['player']['id'])\n",
    "                    insert = (\n",
    "                            'INSERT INTO PLAYERS (COMPETITOR_ID, TEAM_ID, HANDLE, ROLE, NUMBER, NAME, PHOTO) VALUES '\n",
    "                            '(%d, %d, \\'%s\\', \\'%s\\', %d, \\'%s\\', \\'%s\\');'\n",
    "                            % (player['player']['id'], \n",
    "                               player['team']['id'], \n",
    "                               player['player']['name'],\n",
    "                               player['player']['attributes']['role'],\n",
    "                               player['player']['attributes']['player_number'],\n",
    "                               ' '.join([player['player']['givenName'], player['player']['familyName']]),\n",
    "                               player['player']['headshot'])\n",
    "                        )\n",
    "                    file.write(insert+'\\n')"
   ]
  },
  {
   "cell_type": "code",
   "execution_count": 102,
   "metadata": {},
   "outputs": [],
   "source": [
    "file.close()"
   ]
  },
  {
   "cell_type": "code",
   "execution_count": 103,
   "metadata": {},
   "outputs": [],
   "source": [
    "try:\n",
    "    connection = sql.connect('test.db')\n",
    "    cursor = connection.cursor()\n",
    "    db = io.open('owl.sql', 'r', encoding='ISO-8859-1')\n",
    "    database = db.read()\n",
    "    cursor.executescript(database)\n",
    "except Exception as e:\n",
    "    print(e)\n",
    "    os.remove('test.db')"
   ]
  },
  {
   "cell_type": "code",
   "execution_count": 104,
   "metadata": {},
   "outputs": [
    {
     "data": {
      "text/html": [
       "<div>\n",
       "<style scoped>\n",
       "    .dataframe tbody tr th:only-of-type {\n",
       "        vertical-align: middle;\n",
       "    }\n",
       "\n",
       "    .dataframe tbody tr th {\n",
       "        vertical-align: top;\n",
       "    }\n",
       "\n",
       "    .dataframe thead th {\n",
       "        text-align: right;\n",
       "    }\n",
       "</style>\n",
       "<table border=\"1\" class=\"dataframe\">\n",
       "  <thead>\n",
       "    <tr style=\"text-align: right;\">\n",
       "      <th></th>\n",
       "      <th>HANDLE</th>\n",
       "      <th>TEAM_NAME</th>\n",
       "      <th>NUMBER</th>\n",
       "      <th>ROLE</th>\n",
       "    </tr>\n",
       "  </thead>\n",
       "  <tbody>\n",
       "    <tr>\n",
       "      <td>0</td>\n",
       "      <td>aKm</td>\n",
       "      <td>Dallas Fuel</td>\n",
       "      <td>10</td>\n",
       "      <td>offense</td>\n",
       "    </tr>\n",
       "    <tr>\n",
       "      <td>1</td>\n",
       "      <td>Taimou</td>\n",
       "      <td>Dallas Fuel</td>\n",
       "      <td>13</td>\n",
       "      <td>offense</td>\n",
       "    </tr>\n",
       "    <tr>\n",
       "      <td>2</td>\n",
       "      <td>ZachaREEE</td>\n",
       "      <td>Dallas Fuel</td>\n",
       "      <td>22</td>\n",
       "      <td>offense</td>\n",
       "    </tr>\n",
       "    <tr>\n",
       "      <td>3</td>\n",
       "      <td>HarryHook</td>\n",
       "      <td>Dallas Fuel</td>\n",
       "      <td>9</td>\n",
       "      <td>support</td>\n",
       "    </tr>\n",
       "    <tr>\n",
       "      <td>4</td>\n",
       "      <td>uNKOE</td>\n",
       "      <td>Dallas Fuel</td>\n",
       "      <td>24</td>\n",
       "      <td>support</td>\n",
       "    </tr>\n",
       "    <tr>\n",
       "      <td>5</td>\n",
       "      <td>Closer</td>\n",
       "      <td>Dallas Fuel</td>\n",
       "      <td>17</td>\n",
       "      <td>support</td>\n",
       "    </tr>\n",
       "    <tr>\n",
       "      <td>6</td>\n",
       "      <td>OGE</td>\n",
       "      <td>Dallas Fuel</td>\n",
       "      <td>2</td>\n",
       "      <td>tank</td>\n",
       "    </tr>\n",
       "    <tr>\n",
       "      <td>7</td>\n",
       "      <td>Mickie</td>\n",
       "      <td>Dallas Fuel</td>\n",
       "      <td>7</td>\n",
       "      <td>tank</td>\n",
       "    </tr>\n",
       "    <tr>\n",
       "      <td>8</td>\n",
       "      <td>NotE</td>\n",
       "      <td>Dallas Fuel</td>\n",
       "      <td>3</td>\n",
       "      <td>tank</td>\n",
       "    </tr>\n",
       "    <tr>\n",
       "      <td>9</td>\n",
       "      <td>Trill</td>\n",
       "      <td>Dallas Fuel</td>\n",
       "      <td>30</td>\n",
       "      <td>tank</td>\n",
       "    </tr>\n",
       "  </tbody>\n",
       "</table>\n",
       "</div>"
      ],
      "text/plain": [
       "      HANDLE    TEAM_NAME  NUMBER     ROLE\n",
       "0        aKm  Dallas Fuel      10  offense\n",
       "1     Taimou  Dallas Fuel      13  offense\n",
       "2  ZachaREEE  Dallas Fuel      22  offense\n",
       "3  HarryHook  Dallas Fuel       9  support\n",
       "4      uNKOE  Dallas Fuel      24  support\n",
       "5     Closer  Dallas Fuel      17  support\n",
       "6        OGE  Dallas Fuel       2     tank\n",
       "7     Mickie  Dallas Fuel       7     tank\n",
       "8       NotE  Dallas Fuel       3     tank\n",
       "9      Trill  Dallas Fuel      30     tank"
      ]
     },
     "execution_count": 104,
     "metadata": {},
     "output_type": "execute_result"
    }
   ],
   "source": [
    "query('select handle, team_name, number, role from players natural join teams where team_name=\\'Dallas Fuel\\' order by role', connection)"
   ]
  },
  {
   "cell_type": "code",
   "execution_count": null,
   "metadata": {},
   "outputs": [],
   "source": []
  }
 ],
 "metadata": {
  "kernelspec": {
   "display_name": "Python 3",
   "language": "python",
   "name": "python3"
  },
  "language_info": {
   "codemirror_mode": {
    "name": "ipython",
    "version": 3
   },
   "file_extension": ".py",
   "mimetype": "text/x-python",
   "name": "python",
   "nbconvert_exporter": "python",
   "pygments_lexer": "ipython3",
   "version": "3.7.3"
  }
 },
 "nbformat": 4,
 "nbformat_minor": 2
}
